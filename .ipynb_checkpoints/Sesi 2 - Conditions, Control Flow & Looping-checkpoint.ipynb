{
 "cells": [
  {
   "cell_type": "markdown",
   "id": "80a311b4",
   "metadata": {},
   "source": [
    "Percabangan dan Perulangan"
   ]
  },
  {
   "cell_type": "markdown",
   "id": "683a108d",
   "metadata": {},
   "source": [
    "# Introduction to the if Statement"
   ]
  },
  {
   "cell_type": "code",
   "execution_count": null,
   "id": "0cb18543",
   "metadata": {},
   "outputs": [],
   "source": [
    "if <expr>: #boolean text\n",
    "    <statement>:\n",
    "\n",
    "#jika <expr> benar(mengevaluasi ke nilai \"truthy\"), maka <statement> akan dieksekusi\n",
    "#jika <expr> salah, maka <statement> dilewati / tidak dieksekusi"
   ]
  },
  {
   "cell_type": "code",
   "execution_count": 9,
   "id": "3202281d",
   "metadata": {},
   "outputs": [
    {
     "name": "stdout",
     "output_type": "stream",
     "text": [
      "yes\n",
      "yes\n",
      "yes\n"
     ]
    }
   ],
   "source": [
    "x = 0\n",
    "y = 5\n",
    "\n",
    "if x < y:\n",
    "    print('yes')\n",
    "\n",
    "if y < x:\n",
    "    print('yes')\n",
    "\n",
    "if x:\n",
    "    print('yes')\n",
    "\n",
    "if y:\n",
    "    print('yes')\n",
    "\n",
    "if 'aul' in 'grault':\n",
    "    print('yes')\n",
    "\n",
    "if 'quux' in ['foo', 'bar', 'baz']:\n",
    "    print('yes')"
   ]
  },
  {
   "cell_type": "code",
   "execution_count": 10,
   "id": "33524b81",
   "metadata": {},
   "outputs": [
    {
     "ename": "SyntaxError",
     "evalue": "invalid syntax (2537442588.py, line 3)",
     "output_type": "error",
     "traceback": [
      "\u001b[1;36m  Input \u001b[1;32mIn [10]\u001b[1;36m\u001b[0m\n\u001b[1;33m    if <expr>:\u001b[0m\n\u001b[1;37m       ^\u001b[0m\n\u001b[1;31mSyntaxError\u001b[0m\u001b[1;31m:\u001b[0m invalid syntax\n"
     ]
    }
   ],
   "source": [
    "#pernyataan majemuk if\n",
    "\n",
    "if <expr>:\n",
    "    <statement>\n",
    "    <statement>\n",
    "    ...\n",
    "    <statement>\n",
    "<following_statement>"
   ]
  },
  {
   "cell_type": "code",
   "execution_count": 11,
   "id": "b774c854",
   "metadata": {},
   "outputs": [
    {
     "name": "stdout",
     "output_type": "stream",
     "text": [
      "After conditional\n"
     ]
    }
   ],
   "source": [
    "if 'foo' in ['bar', 'baz', 'qux']:\n",
    "    print('Expression was true')\n",
    "    print('Executing statement in suite')\n",
    "    print('...')\n",
    "    print('Done.')\n",
    "    \n",
    "print('After conditional')"
   ]
  },
  {
   "cell_type": "code",
   "execution_count": null,
   "id": "5e9a9ee7",
   "metadata": {},
   "outputs": [],
   "source": []
  }
 ],
 "metadata": {
  "kernelspec": {
   "display_name": "Python 3 (ipykernel)",
   "language": "python",
   "name": "python3"
  },
  "language_info": {
   "codemirror_mode": {
    "name": "ipython",
    "version": 3
   },
   "file_extension": ".py",
   "mimetype": "text/x-python",
   "name": "python",
   "nbconvert_exporter": "python",
   "pygments_lexer": "ipython3",
   "version": "3.10.5"
  }
 },
 "nbformat": 4,
 "nbformat_minor": 5
}

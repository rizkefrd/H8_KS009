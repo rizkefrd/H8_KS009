{
 "cells": [
  {
   "cell_type": "markdown",
   "id": "d845ba29",
   "metadata": {},
   "source": [
    "SESI 1 - Introduction: Basic Syntax, Data Type, and Variable"
   ]
  },
  {
   "cell_type": "code",
   "execution_count": 3,
   "id": "88b61541",
   "metadata": {},
   "outputs": [
    {
     "name": "stdout",
     "output_type": "stream",
     "text": [
      "123123123124\n",
      "10\n",
      "<class 'int'>\n"
     ]
    }
   ],
   "source": [
    "#INTEGERS\n",
    "\n",
    "print(123123123123 + 1)\n",
    "print(10)\n",
    "print(type(10))"
   ]
  },
  {
   "cell_type": "code",
   "execution_count": 4,
   "id": "e9e56b58",
   "metadata": {},
   "outputs": [
    {
     "name": "stdout",
     "output_type": "stream",
     "text": [
      "4.2\n",
      "<class 'float'>\n",
      "4.0\n",
      "0.2\n",
      "4000000.0\n",
      "0.00042\n"
     ]
    }
   ],
   "source": [
    "#FLOATING-POINT NUMBERS\n",
    "#nilai float adl 0, ditentukan dengan titik desimal\n",
    "\n",
    "print(4.2)\n",
    "print(type(4.2))\n",
    "print(4.)\n",
    "print(.2)\n",
    "print(.4e7)\n",
    "print(4.2e-4)"
   ]
  },
  {
   "cell_type": "code",
   "execution_count": 5,
   "id": "1fd358ea",
   "metadata": {},
   "outputs": [
    {
     "name": "stdout",
     "output_type": "stream",
     "text": [
      "Hacktiv8\n",
      "<class 'str'>\n"
     ]
    }
   ],
   "source": [
    "#STRINGS = Urutan data karakter\n",
    "#menggunakan tanda kutip dua atau satu\n",
    "\n",
    "print(\"Hacktiv8\")\n",
    "print(type(\"Hacktiv8\"))"
   ]
  },
  {
   "cell_type": "code",
   "execution_count": 6,
   "id": "304584b2",
   "metadata": {},
   "outputs": [
    {
     "name": "stdout",
     "output_type": "stream",
     "text": [
      "<class 'bool'>\n"
     ]
    }
   ],
   "source": [
    "#BOOLEAN\n",
    "\n",
    "print(type(True))"
   ]
  },
  {
   "cell_type": "code",
   "execution_count": 11,
   "id": "f5488623",
   "metadata": {
    "scrolled": true
   },
   "outputs": [
    {
     "name": "stdout",
     "output_type": "stream",
     "text": [
      "100\n",
      "200 200 200\n"
     ]
    }
   ],
   "source": [
    "#Variabel Assignment = dilakukan dengan tanda sama dengan (=)\n",
    "\n",
    "n = 100\n",
    "print(n)\n",
    "a = b = c = 200\n",
    "print(a,b,c)"
   ]
  },
  {
   "cell_type": "code",
   "execution_count": 12,
   "id": "daa885d3",
   "metadata": {},
   "outputs": [
    {
     "name": "stdout",
     "output_type": "stream",
     "text": [
      "23.5\n",
      "i am keke\n"
     ]
    }
   ],
   "source": [
    "#Variabel Types\n",
    "\n",
    "var = 23.5\n",
    "print(var)\n",
    "\n",
    "var = \"i am keke\"\n",
    "print(var)"
   ]
  },
  {
   "cell_type": "code",
   "execution_count": 14,
   "id": "f212ea52",
   "metadata": {},
   "outputs": [
    {
     "name": "stdout",
     "output_type": "stream",
     "text": [
      "keke 21 True\n"
     ]
    }
   ],
   "source": [
    "#Variabel Names\n",
    "\n",
    "name = \"keke\"\n",
    "age = 21\n",
    "has_laptops = True\n",
    "print(name, age, has_laptops)"
   ]
  },
  {
   "cell_type": "code",
   "execution_count": 26,
   "id": "d4aafce2",
   "metadata": {
    "scrolled": true
   },
   "outputs": [
    {
     "data": {
      "text/plain": [
       "45"
      ]
     },
     "execution_count": 26,
     "metadata": {},
     "output_type": "execute_result"
    }
   ],
   "source": [
    "#Operator Expression\n",
    "\n",
    "a = 30\n",
    "b = 20\n",
    "a + b - 5"
   ]
  },
  {
   "cell_type": "code",
   "execution_count": 27,
   "id": "64626571",
   "metadata": {},
   "outputs": [
    {
     "name": "stdout",
     "output_type": "stream",
     "text": [
      "7\n",
      "1\n",
      "12\n",
      "1.3333333333333333\n",
      "1\n",
      "64\n"
     ]
    }
   ],
   "source": [
    "#Arithmetics Operators\n",
    "\n",
    "a = 4\n",
    "b = 3\n",
    "print(a+b)\n",
    "print(a-b)\n",
    "print(a*b)\n",
    "print(a/b)\n",
    "print(a%b)\n",
    "print(a**b)"
   ]
  },
  {
   "cell_type": "code",
   "execution_count": 28,
   "id": "d50f48a2",
   "metadata": {},
   "outputs": [
    {
     "name": "stdout",
     "output_type": "stream",
     "text": [
      "False\n",
      "True\n",
      "True\n",
      "False\n"
     ]
    }
   ],
   "source": [
    "#Comparison Operators\n",
    "\n",
    "a = 10\n",
    "b = 20\n",
    "print(a == b)\n",
    "print(a != b)\n",
    "print(a <= b)\n",
    "print(a >= b)"
   ]
  },
  {
   "cell_type": "code",
   "execution_count": null,
   "id": "3258ce00",
   "metadata": {},
   "outputs": [],
   "source": [
    "#String Manipulation\n",
    "\n",
    "# + Operators\n",
    "s = 'foo'\n",
    "t = 'bar'\n",
    "u = 'baz'\n",
    "\n",
    "print(s)"
   ]
  }
 ],
 "metadata": {
  "kernelspec": {
   "display_name": "Python 3 (ipykernel)",
   "language": "python",
   "name": "python3"
  },
  "language_info": {
   "codemirror_mode": {
    "name": "ipython",
    "version": 3
   },
   "file_extension": ".py",
   "mimetype": "text/x-python",
   "name": "python",
   "nbconvert_exporter": "python",
   "pygments_lexer": "ipython3",
   "version": "3.9.12"
  }
 },
 "nbformat": 4,
 "nbformat_minor": 5
}

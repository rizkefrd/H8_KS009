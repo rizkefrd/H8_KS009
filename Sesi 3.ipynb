{
 "cells": [
  {
   "cell_type": "markdown",
   "id": "c4120a49",
   "metadata": {},
   "source": [
    "SESI 3"
   ]
  },
  {
   "cell_type": "markdown",
   "id": "cec782e3",
   "metadata": {},
   "source": [
    "# Definisi Function"
   ]
  },
  {
   "cell_type": "markdown",
   "id": "fa16b202",
   "metadata": {},
   "source": [
    "def function_name( parameters ):\n",
    "    \"docstring\"\n",
    "    statement(s)\n",
    "    \n",
    "def my_function(p, 1):\n",
    "    \"Function untuk menghitung luas\"\n",
    "    print(p * 1)"
   ]
  },
  {
   "cell_type": "code",
   "execution_count": 9,
   "id": "6cfc9704",
   "metadata": {},
   "outputs": [],
   "source": [
    "def printme( str ):\n",
    "    \"This prints a passed string into this function\"\n",
    "    print(str)\n",
    "    return"
   ]
  },
  {
   "cell_type": "markdown",
   "id": "b523cd2e",
   "metadata": {},
   "source": [
    "# Calling a Function"
   ]
  },
  {
   "cell_type": "code",
   "execution_count": 13,
   "id": "d92fa9ca",
   "metadata": {},
   "outputs": [
    {
     "name": "stdout",
     "output_type": "stream",
     "text": [
      "Im first call to user defined function!\n",
      "Again second call to the same function\n"
     ]
    }
   ],
   "source": [
    "#Function defnition is here\n",
    "def printme( str ):\n",
    "    \"This prints a passed string into this function\"\n",
    "    print(str)\n",
    "    return;\n",
    "\n",
    "#Now you can call printme function\n",
    "printme(\"Im first call to user defined function!\")\n",
    "printme(\"Again second call to the same function\")"
   ]
  },
  {
   "cell_type": "markdown",
   "id": "183dd3b4",
   "metadata": {},
   "source": [
    "\n",
    "# Pass by reference vs value"
   ]
  },
  {
   "cell_type": "code",
   "execution_count": 15,
   "id": "8f0fab89",
   "metadata": {},
   "outputs": [
    {
     "name": "stdout",
     "output_type": "stream",
     "text": [
      "Values inside the function:  [1, 2, 3, 4]\n",
      "Values outside the functuon:  [10, 20, 30]\n"
     ]
    }
   ],
   "source": [
    "#Function definition is here\n",
    "def changeme( mylist ):\n",
    "    \"This changes a passed list into this function\"\n",
    "    mylist = [1,2,3,4]; #this would assing new reference in mylist\n",
    "    print(\"Values inside the function: \", mylist)\n",
    "    return\n",
    "\n",
    "#Now you can call changeme function\n",
    "mylist = [10,20,30];\n",
    "changeme( mylist );\n",
    "print(\"Values outside the functuon: \", mylist)"
   ]
  },
  {
   "cell_type": "markdown",
   "id": "bab54df8",
   "metadata": {},
   "source": [
    "# Function Arguments"
   ]
  },
  {
   "cell_type": "markdown",
   "id": "bf797502",
   "metadata": {},
   "source": [
    "1. Required Arguments\n",
    "2. Keyword Arguments\n",
    "3. Default Arguments\n",
    "4. Variable-length Arguments"
   ]
  },
  {
   "cell_type": "markdown",
   "id": "37e072db",
   "metadata": {},
   "source": [
    "# Required Arguments"
   ]
  },
  {
   "cell_type": "code",
   "execution_count": 16,
   "id": "7b1587d1",
   "metadata": {},
   "outputs": [
    {
     "ename": "TypeError",
     "evalue": "printme() missing 1 required positional argument: 'str'",
     "output_type": "error",
     "traceback": [
      "\u001b[1;31m---------------------------------------------------------------------------\u001b[0m",
      "\u001b[1;31mTypeError\u001b[0m                                 Traceback (most recent call last)",
      "Input \u001b[1;32mIn [16]\u001b[0m, in \u001b[0;36m<cell line: 8>\u001b[1;34m()\u001b[0m\n\u001b[0;32m      5\u001b[0m     \u001b[38;5;28;01mreturn\u001b[39;00m;\n\u001b[0;32m      7\u001b[0m \u001b[38;5;66;03m#Now you can call printme functiom\u001b[39;00m\n\u001b[1;32m----> 8\u001b[0m \u001b[43mprintme\u001b[49m\u001b[43m(\u001b[49m\u001b[43m)\u001b[49m\n",
      "\u001b[1;31mTypeError\u001b[0m: printme() missing 1 required positional argument: 'str'"
     ]
    }
   ],
   "source": [
    "#Untuk memanggil printme() perlu memberikan 1 argumen jika tidak akan terjadi error sbb\n",
    "#Function definition is here\n",
    "def printme( str ):\n",
    "    \"This prints a passed string into this function\"\n",
    "    print(str)\n",
    "    return;\n",
    "\n",
    "#Now you can call printme functiom\n",
    "printme()"
   ]
  },
  {
   "cell_type": "markdown",
   "id": "d183a9ae",
   "metadata": {},
   "source": [
    "# Keyword Arguments"
   ]
  },
  {
   "cell_type": "code",
   "execution_count": 17,
   "id": "59bd813c",
   "metadata": {},
   "outputs": [
    {
     "name": "stdout",
     "output_type": "stream",
     "text": [
      "Hacktiv8\n"
     ]
    }
   ],
   "source": [
    "#identifikasi parameter dgn nama parameter\n",
    "#Function definition is here\n",
    "def printme( str ):\n",
    "    \"This prints a passed string into this function\"\n",
    "    print(str)\n",
    "    return;\n",
    "\n",
    "#Now you can call printme functiom\n",
    "printme(str = \"Hacktiv8\")"
   ]
  },
  {
   "cell_type": "code",
   "execution_count": 22,
   "id": "346ef4e8",
   "metadata": {},
   "outputs": [
    {
     "name": "stdout",
     "output_type": "stream",
     "text": [
      "Name:  keke\n",
      "Age:  21\n"
     ]
    }
   ],
   "source": [
    "#urutan parameter tidak menjadi masalah\n",
    "#Function definition is here\n",
    "def print_info(name, age):\n",
    "    \"This prints a passed info this function\"\n",
    "    print(\"Name: \", name)\n",
    "    print(\"Age: \", age)\n",
    "    return;\n",
    "\n",
    "#Now you can call printinfo function\n",
    "print_info(\"keke\", 21)\n"
   ]
  },
  {
   "cell_type": "markdown",
   "id": "8acabda4",
   "metadata": {},
   "source": [
    "# Default Arguments"
   ]
  },
  {
   "cell_type": "code",
   "execution_count": 25,
   "id": "91e37b64",
   "metadata": {},
   "outputs": [
    {
     "name": "stdout",
     "output_type": "stream",
     "text": [
      "Name:  lucky\n",
      "Age:  21\n",
      "Name:  lucky\n",
      "Age:  26\n"
     ]
    }
   ],
   "source": [
    "#akan mencetak usia default jika tidak diberikan nilai apapun\n",
    "#Function definition is here\n",
    "def print_info(name, age = 26):\n",
    "    \"This prints a passed info this function\"\n",
    "    print(\"Name: \", name)\n",
    "    print(\"Age: \", age)\n",
    "    return;\n",
    "\n",
    "#Now you can call printinfo function\n",
    "print_info(\"lucky\", 21)\n",
    "print_info(\"lucky\")\n"
   ]
  },
  {
   "cell_type": "markdown",
   "id": "314575da",
   "metadata": {},
   "source": [
    "# Variabel-length Arguments"
   ]
  },
  {
   "cell_type": "code",
   "execution_count": 27,
   "id": "0627acc6",
   "metadata": {},
   "outputs": [
    {
     "name": "stdout",
     "output_type": "stream",
     "text": [
      "Output is: \n",
      "10\n",
      "Output is: \n",
      "70\n",
      "60\n",
      "50\n",
      "a\n"
     ]
    }
   ],
   "source": [
    "#Function definition is here\n",
    "def printinfo(arg1, *vartuple):\n",
    "    \"This prints a variabel passed arguments\"\n",
    "    print(\"Output is: \")\n",
    "    print(arg1)\n",
    "    for var in vartuple:\n",
    "        print(var)\n",
    "    return;\n",
    "\n",
    "#Now you can call printinfo function\n",
    "printinfo(10)\n",
    "printinfo(70,60,50,\"a\")"
   ]
  },
  {
   "cell_type": "markdown",
   "id": "5e5d89d7",
   "metadata": {},
   "source": [
    "# The Anonymous Function"
   ]
  },
  {
   "cell_type": "code",
   "execution_count": 29,
   "id": "3c17148c",
   "metadata": {},
   "outputs": [
    {
     "name": "stdout",
     "output_type": "stream",
     "text": [
      "Value of total :  None\n",
      "Value of total :  None\n"
     ]
    }
   ],
   "source": [
    "#Function definition is here\n",
    "sum = lambda arg1, arg2: arg1 + arg2;\n",
    "\n",
    "def sum(arg1, arg2):\n",
    "    arg1 + arg2\n",
    "\n",
    "#Now you canll sum as a function\n",
    "print(\"Value of total : \", sum(10,20))\n",
    "print(\"Value of total : \", sum(20,20))"
   ]
  },
  {
   "cell_type": "markdown",
   "id": "9826f411",
   "metadata": {},
   "source": [
    "# The Return Statement"
   ]
  },
  {
   "cell_type": "code",
   "execution_count": 1,
   "id": "2fec4650",
   "metadata": {},
   "outputs": [
    {
     "name": "stdout",
     "output_type": "stream",
     "text": [
      "Inside the function :  30\n",
      "Outside the function :  40\n"
     ]
    }
   ],
   "source": [
    "# Function definition is here\n",
    "def sum(arg1, arg2):\n",
    "    '''Add both the parameters and return them.'''\n",
    "    total = arg1 + arg2\n",
    "    total2 = total + arg1\n",
    "    print(\"Inside the function : \", total)\n",
    "    return total2\n",
    "\n",
    "# Now you can call sum function\n",
    "total = sum(10, 20)\n",
    "print(\"Outside the function : \", total)"
   ]
  },
  {
   "cell_type": "markdown",
   "id": "c0609eed",
   "metadata": {},
   "source": [
    "# Global vs Local Variables"
   ]
  },
  {
   "cell_type": "code",
   "execution_count": 2,
   "id": "27145d60",
   "metadata": {},
   "outputs": [
    {
     "name": "stdout",
     "output_type": "stream",
     "text": [
      "Inside the function local total :  30\n",
      "Outside the function global total :  0\n"
     ]
    }
   ],
   "source": [
    "total = 0\n",
    "\n",
    "def sum(arg1, arg2):\n",
    "    total = arg1 + arg2\n",
    "    print(\"Inside the function local total : \", total)\n",
    "    return total\n",
    "\n",
    "def min():\n",
    "    pass\n",
    "    \n",
    "sum(10, 20)\n",
    "print(\"Outside the function global total : \", total)"
   ]
  },
  {
   "cell_type": "code",
   "execution_count": 3,
   "id": "ca35267a",
   "metadata": {},
   "outputs": [
    {
     "name": "stdout",
     "output_type": "stream",
     "text": [
      "50\n",
      "40\n"
     ]
    }
   ],
   "source": [
    "jumlahKucing = 20\n",
    "\n",
    "def jumlahHewan():\n",
    "    jumlahAnjing = 30\n",
    "    return jumlahKucing + jumlahAnjing\n",
    "\n",
    "def jumlahKelinci():\n",
    "    return jumlahKucing + jumlahKucing\n",
    "\n",
    "print(jumlahHewan())\n",
    "print(jumlahKelinci())\n"
   ]
  },
  {
   "cell_type": "markdown",
   "id": "e9da49ff",
   "metadata": {},
   "source": [
    "# Python Modules: Overview"
   ]
  },
  {
   "cell_type": "code",
   "execution_count": 4,
   "id": "a93d002a",
   "metadata": {},
   "outputs": [],
   "source": [
    "s = \"Hactiv8-PTP Python For Data Science\"  #string\n",
    "a = [100, 200, 300]  #list\n",
    "\n",
    "def foo(arg):   #function\n",
    "    print(f'arg = {arg}')\n",
    "\n",
    "class foo:\n",
    "    pass"
   ]
  }
 ],
 "metadata": {
  "kernelspec": {
   "display_name": "Python 3 (ipykernel)",
   "language": "python",
   "name": "python3"
  },
  "language_info": {
   "codemirror_mode": {
    "name": "ipython",
    "version": 3
   },
   "file_extension": ".py",
   "mimetype": "text/x-python",
   "name": "python",
   "nbconvert_exporter": "python",
   "pygments_lexer": "ipython3",
   "version": "3.10.5"
  }
 },
 "nbformat": 4,
 "nbformat_minor": 5
}
